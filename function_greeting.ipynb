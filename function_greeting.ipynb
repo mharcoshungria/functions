{
 "cells": [
  {
   "cell_type": "markdown",
   "id": "a9707d0c",
   "metadata": {},
   "source": [
    "#### Saudação:"
   ]
  },
  {
   "cell_type": "code",
   "execution_count": 4,
   "id": "159bab09",
   "metadata": {},
   "outputs": [],
   "source": [
    "def saudacao():\n",
    "  nome = input('Qual é o seu nome? ')"
   ]
  },
  {
   "cell_type": "code",
   "execution_count": 5,
   "id": "00f11e94",
   "metadata": {},
   "outputs": [],
   "source": [
    "def saudacao():\n",
    "  nome = input('Qual é o seu nome? ')\n",
    "  print(f'Olá {nome}, prazer em te conhecer!') "
   ]
  },
  {
   "cell_type": "code",
   "execution_count": 6,
   "id": "c14eae65",
   "metadata": {},
   "outputs": [
    {
     "name": "stdout",
     "output_type": "stream",
     "text": [
      "Qual é o seu nome? Mharcos\n",
      "Olá Mharcos, prazer em te conhecer!\n"
     ]
    }
   ],
   "source": [
    "saudacao()"
   ]
  }
 ],
 "metadata": {
  "kernelspec": {
   "display_name": "Python 3 (ipykernel)",
   "language": "python",
   "name": "python3"
  },
  "language_info": {
   "codemirror_mode": {
    "name": "ipython",
    "version": 3
   },
   "file_extension": ".py",
   "mimetype": "text/x-python",
   "name": "python",
   "nbconvert_exporter": "python",
   "pygments_lexer": "ipython3",
   "version": "3.9.7"
  }
 },
 "nbformat": 4,
 "nbformat_minor": 5
}
