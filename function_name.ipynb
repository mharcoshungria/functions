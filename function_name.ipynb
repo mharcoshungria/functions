{
 "cells": [
  {
   "cell_type": "markdown",
   "id": "eb41a156",
   "metadata": {},
   "source": [
    "#### Nome completo:"
   ]
  },
  {
   "cell_type": "code",
   "execution_count": 1,
   "id": "0d1985a7",
   "metadata": {},
   "outputs": [
    {
     "name": "stdout",
     "output_type": "stream",
     "text": [
      "Qual seu primeiro nome? Mharcos\n",
      "Qual seu sobrenome? Hungria\n",
      "Legal! Gostei do seu nome Mharcos Hungria\n"
     ]
    }
   ],
   "source": [
    "def nome_completo():\n",
    " primeiro_nome = input('Qual seu primeiro nome? ')\n",
    " sobrenome = input('Qual seu sobrenome? ')\n",
    " nome_inteiro = primeiro_nome + ' ' + sobrenome\n",
    " print('Legal! Gostei do seu nome', nome_inteiro)\n",
    "\n",
    "nome_completo()"
   ]
  }
 ],
 "metadata": {
  "kernelspec": {
   "display_name": "Python 3 (ipykernel)",
   "language": "python",
   "name": "python3"
  },
  "language_info": {
   "codemirror_mode": {
    "name": "ipython",
    "version": 3
   },
   "file_extension": ".py",
   "mimetype": "text/x-python",
   "name": "python",
   "nbconvert_exporter": "python",
   "pygments_lexer": "ipython3",
   "version": "3.9.7"
  }
 },
 "nbformat": 4,
 "nbformat_minor": 5
}
