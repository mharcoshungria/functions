{
 "cells": [
  {
   "cell_type": "code",
   "execution_count": 2,
   "id": "863274be",
   "metadata": {},
   "outputs": [],
   "source": [
    "def saudacao():\n",
    "  nome = input('Qual é o seu nome? ')"
   ]
  },
  {
   "cell_type": "code",
   "execution_count": 3,
   "id": "4dfc2a08",
   "metadata": {},
   "outputs": [],
   "source": [
    "def saudacao():\n",
    "  nome = input('Qual é o seu nome? ')\n",
    "  print(f'Olá {nome}') "
   ]
  },
  {
   "cell_type": "code",
   "execution_count": 4,
   "id": "80cd4bc0",
   "metadata": {},
   "outputs": [
    {
     "name": "stdout",
     "output_type": "stream",
     "text": [
      "Qual é o seu nome? Mharcos\n",
      "Olá Mharcos\n"
     ]
    }
   ],
   "source": [
    "saudacao()"
   ]
  },
  {
   "cell_type": "code",
   "execution_count": 3,
   "id": "c1c4cc2f",
   "metadata": {},
   "outputs": [
    {
     "name": "stdout",
     "output_type": "stream",
     "text": [
      "Qual seu primeiro nome? Mharcos\n",
      "Qual seu sobrenome? Hungria\n",
      "Legal! Gostei do seu nome Mharcos Hungria\n"
     ]
    }
   ],
   "source": [
    "def nome_completo():\n",
    " primeiro_nome = input('Qual seu primeiro nome? ')\n",
    " sobrenome = input('Qual seu sobrenome? ')\n",
    " nome_inteiro = primeiro_nome + ' ' + sobrenome\n",
    " print('Legal! Gostei do seu nome', nome_inteiro)\n",
    "\n",
    "nome_completo()"
   ]
  },
  {
   "cell_type": "code",
   "execution_count": null,
   "id": "d8b24358",
   "metadata": {},
   "outputs": [],
   "source": []
  }
 ],
 "metadata": {
  "kernelspec": {
   "display_name": "Python 3 (ipykernel)",
   "language": "python",
   "name": "python3"
  },
  "language_info": {
   "codemirror_mode": {
    "name": "ipython",
    "version": 3
   },
   "file_extension": ".py",
   "mimetype": "text/x-python",
   "name": "python",
   "nbconvert_exporter": "python",
   "pygments_lexer": "ipython3",
   "version": "3.9.7"
  }
 },
 "nbformat": 4,
 "nbformat_minor": 5
}
