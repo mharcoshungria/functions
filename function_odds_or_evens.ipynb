{
 "cells": [
  {
   "cell_type": "markdown",
   "id": "67f7f768",
   "metadata": {},
   "source": [
    "#### Par ou impar:"
   ]
  },
  {
   "cell_type": "code",
   "execution_count": 4,
   "id": "6dd12a3c",
   "metadata": {},
   "outputs": [
    {
     "name": "stdout",
     "output_type": "stream",
     "text": [
      "Digite um número: \n",
      "55\n",
      "Esse numero é impar!\n"
     ]
    }
   ],
   "source": [
    "def par_impar(x):\n",
    "    if (x % 2 == 0):\n",
    "        return True\n",
    "    else: \n",
    "        return False\n",
    "print ('Digite um número: ')\n",
    "n = float(input ())\n",
    "if par_impar(n):\n",
    "    print('Esse númeo é par!')\n",
    "else:    \n",
    "    print('Esse numero é impar!')"
   ]
  },
  {
   "cell_type": "code",
   "execution_count": 6,
   "id": "7d2cb4a6",
   "metadata": {},
   "outputs": [
    {
     "name": "stdout",
     "output_type": "stream",
     "text": [
      "Digite um número: \n",
      "90\n",
      "Esse númeo é par!\n"
     ]
    }
   ],
   "source": [
    "def par_impar(x):\n",
    "    if (x % 2 == 0):\n",
    "        return True\n",
    "    else: \n",
    "        return False\n",
    "print ('Digite um número: ')\n",
    "n = float(input ())\n",
    "if par_impar(n):\n",
    "    print('Esse númeo é par!')\n",
    "else:    \n",
    "    print('Esse numero é impar!')"
   ]
  }
 ],
 "metadata": {
  "kernelspec": {
   "display_name": "Python 3 (ipykernel)",
   "language": "python",
   "name": "python3"
  },
  "language_info": {
   "codemirror_mode": {
    "name": "ipython",
    "version": 3
   },
   "file_extension": ".py",
   "mimetype": "text/x-python",
   "name": "python",
   "nbconvert_exporter": "python",
   "pygments_lexer": "ipython3",
   "version": "3.9.7"
  }
 },
 "nbformat": 4,
 "nbformat_minor": 5
}
